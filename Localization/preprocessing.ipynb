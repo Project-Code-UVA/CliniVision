{
 "cells": [
  {
   "cell_type": "code",
   "execution_count": 32,
   "metadata": {},
   "outputs": [
    {
     "data": {
      "text/html": [
       "<div>\n",
       "<style scoped>\n",
       "    .dataframe tbody tr th:only-of-type {\n",
       "        vertical-align: middle;\n",
       "    }\n",
       "\n",
       "    .dataframe tbody tr th {\n",
       "        vertical-align: top;\n",
       "    }\n",
       "\n",
       "    .dataframe thead th {\n",
       "        text-align: right;\n",
       "    }\n",
       "</style>\n",
       "<table border=\"1\" class=\"dataframe\">\n",
       "  <thead>\n",
       "    <tr style=\"text-align: right;\">\n",
       "      <th></th>\n",
       "      <th>image_id</th>\n",
       "      <th>class_name</th>\n",
       "      <th>class_id</th>\n",
       "      <th>rad_id</th>\n",
       "      <th>x_min</th>\n",
       "      <th>y_min</th>\n",
       "      <th>x_max</th>\n",
       "      <th>y_max</th>\n",
       "    </tr>\n",
       "  </thead>\n",
       "  <tbody>\n",
       "    <tr>\n",
       "      <th>0</th>\n",
       "      <td>50a418190bc3fb1ef1633bf9678929b3</td>\n",
       "      <td>No finding</td>\n",
       "      <td>14</td>\n",
       "      <td>R11</td>\n",
       "      <td>NaN</td>\n",
       "      <td>NaN</td>\n",
       "      <td>NaN</td>\n",
       "      <td>NaN</td>\n",
       "    </tr>\n",
       "    <tr>\n",
       "      <th>1</th>\n",
       "      <td>21a10246a5ec7af151081d0cd6d65dc9</td>\n",
       "      <td>No finding</td>\n",
       "      <td>14</td>\n",
       "      <td>R7</td>\n",
       "      <td>NaN</td>\n",
       "      <td>NaN</td>\n",
       "      <td>NaN</td>\n",
       "      <td>NaN</td>\n",
       "    </tr>\n",
       "    <tr>\n",
       "      <th>2</th>\n",
       "      <td>9a5094b2563a1ef3ff50dc5c7ff71345</td>\n",
       "      <td>Cardiomegaly</td>\n",
       "      <td>3</td>\n",
       "      <td>R10</td>\n",
       "      <td>691.0</td>\n",
       "      <td>1375.0</td>\n",
       "      <td>1653.0</td>\n",
       "      <td>1831.0</td>\n",
       "    </tr>\n",
       "    <tr>\n",
       "      <th>3</th>\n",
       "      <td>051132a778e61a86eb147c7c6f564dfe</td>\n",
       "      <td>Aortic enlargement</td>\n",
       "      <td>0</td>\n",
       "      <td>R10</td>\n",
       "      <td>1264.0</td>\n",
       "      <td>743.0</td>\n",
       "      <td>1611.0</td>\n",
       "      <td>1019.0</td>\n",
       "    </tr>\n",
       "    <tr>\n",
       "      <th>4</th>\n",
       "      <td>063319de25ce7edb9b1c6b8881290140</td>\n",
       "      <td>No finding</td>\n",
       "      <td>14</td>\n",
       "      <td>R10</td>\n",
       "      <td>NaN</td>\n",
       "      <td>NaN</td>\n",
       "      <td>NaN</td>\n",
       "      <td>NaN</td>\n",
       "    </tr>\n",
       "  </tbody>\n",
       "</table>\n",
       "</div>"
      ],
      "text/plain": [
       "                           image_id          class_name  class_id rad_id  \\\n",
       "0  50a418190bc3fb1ef1633bf9678929b3          No finding        14    R11   \n",
       "1  21a10246a5ec7af151081d0cd6d65dc9          No finding        14     R7   \n",
       "2  9a5094b2563a1ef3ff50dc5c7ff71345        Cardiomegaly         3    R10   \n",
       "3  051132a778e61a86eb147c7c6f564dfe  Aortic enlargement         0    R10   \n",
       "4  063319de25ce7edb9b1c6b8881290140          No finding        14    R10   \n",
       "\n",
       "    x_min   y_min   x_max   y_max  \n",
       "0     NaN     NaN     NaN     NaN  \n",
       "1     NaN     NaN     NaN     NaN  \n",
       "2   691.0  1375.0  1653.0  1831.0  \n",
       "3  1264.0   743.0  1611.0  1019.0  \n",
       "4     NaN     NaN     NaN     NaN  "
      ]
     },
     "execution_count": 32,
     "metadata": {},
     "output_type": "execute_result"
    }
   ],
   "source": [
    "import pandas as pd\n",
    "df =  pd.read_csv('../Data/train.csv',sep=',')\n",
    "df.head()"
   ]
  },
  {
   "cell_type": "code",
   "execution_count": 33,
   "metadata": {},
   "outputs": [
    {
     "name": "stdout",
     "output_type": "stream",
     "text": [
      "class_id\n",
      "14    31818\n",
      "0      7162\n",
      "3      5427\n",
      "11     4842\n",
      "13     4655\n",
      "8      2580\n",
      "7      2483\n",
      "10     2476\n",
      "9      2203\n",
      "6      1247\n",
      "5      1000\n",
      "2       960\n",
      "4       556\n",
      "1       279\n",
      "12      226\n",
      "Name: count, dtype: int64\n"
     ]
    }
   ],
   "source": [
    "class_name_counts = df['class_id'].value_counts()\n",
    "print(class_name_counts)"
   ]
  },
  {
   "cell_type": "code",
   "execution_count": 34,
   "metadata": {},
   "outputs": [
    {
     "name": "stdout",
     "output_type": "stream",
     "text": [
      "class_id\n",
      "14    0.468504\n",
      "0     0.105457\n",
      "3     0.079910\n",
      "11    0.071296\n",
      "13    0.068543\n",
      "8     0.037989\n",
      "7     0.036561\n",
      "10    0.036458\n",
      "9     0.032438\n",
      "6     0.018361\n",
      "5     0.014725\n",
      "2     0.014136\n",
      "4     0.008187\n",
      "1     0.004108\n",
      "12    0.003328\n",
      "Name: count, dtype: float64\n"
     ]
    }
   ],
   "source": [
    "total_count = class_name_counts.sum()\n",
    "class_name_ratios = class_name_counts / total_count\n",
    "print(class_name_ratios)"
   ]
  },
  {
   "cell_type": "code",
   "execution_count": 43,
   "metadata": {},
   "outputs": [
    {
     "name": "stdout",
     "output_type": "stream",
     "text": [
      "class_name\n",
      "Aortic enlargement    [051132a778e61a86eb147c7c6f564dfe, d3637a1935a...\n",
      "Atelectasis           [80caa435b6ab5edaff4a0a758ffaec6e, 8098d1ce056...\n",
      "Calcification         [2e285b95faad220e17e6cbfbe514733e, db49c96665f...\n",
      "Cardiomegaly          [9a5094b2563a1ef3ff50dc5c7ff71345, 0622cd29e4e...\n",
      "Consolidation         [bd3fe876153eeddad8bab49b129ea081, 4b9ee23b2f1...\n",
      "ILD                   [0c7a38f293d5f5e4846aa4ca6db4daf1, 0a14aeaf02d...\n",
      "Infiltration          [d7aea6f37597df566725da73655edcc2, d77ef79ee45...\n",
      "Lung Opacity          [7c1add6833d5f0102b0d3619a1682a64, be1bb194dfb...\n",
      "No finding            [50a418190bc3fb1ef1633bf9678929b3, 21a10246a5e...\n",
      "Nodule/Mass           [47ed17dcb2cbeec15182ed335a8b5a9e, 8e063eadea9...\n",
      "Other lesion          [c394eadea89e5795c8037280492d116d, 8ae85268313...\n",
      "Pleural effusion      [04bb8bd7ee6f88a16623fe5c6dd4da91, bd6eb525438...\n",
      "Pleural thickening    [1c32170b4af4ce1a3030eb8167753b06, 34718036234...\n",
      "Pneumothorax          [6e4391555899c8474c4d32f42b2ba21b, e3c5ff1eb0d...\n",
      "Pulmonary fibrosis    [afb6230703512afc370f236e8fe98806, 18a61a07e6f...\n",
      "Name: image_id, dtype: object\n"
     ]
    }
   ],
   "source": [
    "image_ids_by_classname = df.groupby('class_name')['image_id'].apply(list)\n",
    "print(image_ids_by_classname)\n",
    "\n",
    "image_ids_by_classname.to_csv('output.csv', header=True)"
   ]
  },
  {
   "cell_type": "code",
   "execution_count": null,
   "metadata": {},
   "outputs": [],
   "source": []
  }
 ],
 "metadata": {
  "kernelspec": {
   "display_name": "myvenv",
   "language": "python",
   "name": "python3"
  },
  "language_info": {
   "codemirror_mode": {
    "name": "ipython",
    "version": 3
   },
   "file_extension": ".py",
   "mimetype": "text/x-python",
   "name": "python",
   "nbconvert_exporter": "python",
   "pygments_lexer": "ipython3",
   "version": "3.8.10"
  }
 },
 "nbformat": 4,
 "nbformat_minor": 2
}
